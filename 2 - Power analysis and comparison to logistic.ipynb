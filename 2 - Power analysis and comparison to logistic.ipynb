{
 "cells": [
  {
   "cell_type": "markdown",
   "metadata": {},
   "source": [
    "# Power analysis and comparison\n",
    "\n",
    "We now see how well the method is able to recognize a scenario of two different groups, and how well the method can recover the original order of students, in comparison to the 1-parameter logistic method from item response theory."
   ]
  },
  {
   "cell_type": "markdown",
   "metadata": {},
   "source": [
    "## Imports"
   ]
  },
  {
   "cell_type": "code",
   "execution_count": 1,
   "metadata": {},
   "outputs": [],
   "source": [
    "import numpy as np\n",
    "from scipy.optimize import minimize\n",
    "from matplotlib import pyplot as plt"
   ]
  },
  {
   "cell_type": "code",
   "execution_count": 2,
   "metadata": {},
   "outputs": [],
   "source": [
    "from pl import p as pl_p, dpds as pl_dpds, dpdq as pl_dpdq"
   ]
  },
  {
   "cell_type": "code",
   "execution_count": 3,
   "metadata": {},
   "outputs": [],
   "source": [
    "from functools import partial"
   ]
  },
  {
   "cell_type": "code",
   "execution_count": 4,
   "metadata": {},
   "outputs": [],
   "source": [
    "from multiprocessing import Pool"
   ]
  },
  {
   "cell_type": "markdown",
   "metadata": {},
   "source": [
    "## Problem size\n",
    "\n",
    "The larger the problem, the smaller the difference between the methods for a fixed difference between the groups, it seems like."
   ]
  },
  {
   "cell_type": "code",
   "execution_count": 5,
   "metadata": {},
   "outputs": [],
   "source": [
    "S = 50\n",
    "Q = 25"
   ]
  },
  {
   "cell_type": "markdown",
   "metadata": {},
   "source": [
    "## Technical\n",
    "\n",
    "How often to simulate, and how often to recompute the same solution for numerical stability and result quality."
   ]
  },
  {
   "cell_type": "code",
   "execution_count": 6,
   "metadata": {},
   "outputs": [],
   "source": [
    "n = 1000\n",
    "nr_evals = 10"
   ]
  },
  {
   "cell_type": "markdown",
   "metadata": {},
   "source": [
    "Utility functions"
   ]
  },
  {
   "cell_type": "code",
   "execution_count": 7,
   "metadata": {},
   "outputs": [],
   "source": [
    "pack = lambda s, q: np.concatenate((np.reshape(s, S), np.reshape(q, Q)))\n",
    "unpack = lambda x: (np.reshape(x[:S], S), np.reshape(x[S:], Q))"
   ]
  },
  {
   "cell_type": "markdown",
   "metadata": {},
   "source": [
    "## Data generation"
   ]
  },
  {
   "cell_type": "markdown",
   "metadata": {},
   "source": [
    "A first scenario: equidistant student and question values. This is used to test order recovery."
   ]
  },
  {
   "cell_type": "code",
   "execution_count": 8,
   "metadata": {},
   "outputs": [],
   "source": [
    "s = np.linspace(0, 1, S + 1, endpoint=False)[1:]\n",
    "q = np.linspace(0, 1, Q + 1, endpoint=False)[1:]"
   ]
  },
  {
   "cell_type": "code",
   "execution_count": 9,
   "metadata": {},
   "outputs": [],
   "source": [
    "from pde import p as pde_p"
   ]
  },
  {
   "cell_type": "code",
   "execution_count": 10,
   "metadata": {
    "scrolled": true
   },
   "outputs": [
    {
     "data": {
      "text/plain": [
       "(50, 25)"
      ]
     },
     "execution_count": 10,
     "metadata": {},
     "output_type": "execute_result"
    }
   ],
   "source": [
    "p = pde_p(s.transpose(), q)\n",
    "p.shape"
   ]
  },
  {
   "cell_type": "markdown",
   "metadata": {},
   "source": [
    "We again want to filter constant rows and columns."
   ]
  },
  {
   "cell_type": "code",
   "execution_count": 11,
   "metadata": {
    "scrolled": true
   },
   "outputs": [],
   "source": [
    "def has_constant_row_or_column(A):\n",
    "    return np.logical_or(\n",
    "        np.any(np.logical_or(np.all(A, axis=0), np.all(1 - A, axis=0))),\n",
    "        np.any(np.logical_or(np.all(A, axis=1), np.all(1 - A, axis=1))),\n",
    "    )"
   ]
  },
  {
   "cell_type": "code",
   "execution_count": 12,
   "metadata": {},
   "outputs": [],
   "source": [
    "def generate_matrices(p, n):\n",
    "    As = list()\n",
    "    while len(As) != n:\n",
    "        A = np.random.binomial(1, p)\n",
    "        if not has_constant_row_or_column(A):\n",
    "            As.append(A)\n",
    "    return As"
   ]
  },
  {
   "cell_type": "code",
   "execution_count": 13,
   "metadata": {},
   "outputs": [],
   "source": [
    "As = generate_matrices(p, n)"
   ]
  },
  {
   "cell_type": "markdown",
   "metadata": {},
   "source": [
    "## Setting up the solving method"
   ]
  },
  {
   "cell_type": "code",
   "execution_count": 14,
   "metadata": {},
   "outputs": [],
   "source": [
    "from pde import p as pde_p, dpds as pde_dpds, dpdq as pde_dpdq"
   ]
  },
  {
   "cell_type": "code",
   "execution_count": 15,
   "metadata": {},
   "outputs": [],
   "source": [
    "from mle import neg_log_likelihood, d_neg_log_likelihood"
   ]
  },
  {
   "cell_type": "code",
   "execution_count": 16,
   "metadata": {},
   "outputs": [],
   "source": [
    "bounds = [(0, 1)] * (S + Q)"
   ]
  },
  {
   "cell_type": "code",
   "execution_count": 17,
   "metadata": {},
   "outputs": [],
   "source": [
    "def best_nll_solution(A, p, dpds, dpdq):\n",
    "    best_nll = min(\n",
    "        (minimize(\n",
    "            partial(neg_log_likelihood, \n",
    "                    p=p, A=A, S=S),\n",
    "            np.random.rand(S + Q),\n",
    "            jac=partial(d_neg_log_likelihood,\n",
    "                        p=p, dpds=dpds, dpdq=dpdq, A=A, S=S),\n",
    "            bounds=bounds,\n",
    "        ) for _ in range(nr_evals)),\n",
    "        key=lambda result: result.fun,\n",
    "    )\n",
    "    return best_nll"
   ]
  },
  {
   "cell_type": "markdown",
   "metadata": {},
   "source": [
    "### Assessment of how stable the solver is"
   ]
  },
  {
   "cell_type": "code",
   "execution_count": 18,
   "metadata": {},
   "outputs": [],
   "source": [
    "def calc(_):\n",
    "    return minimize(\n",
    "        partial(neg_log_likelihood, \n",
    "                p=pde_p, A=As[0], S=S),\n",
    "        np.random.rand(S + Q),\n",
    "        jac=partial(d_neg_log_likelihood,\n",
    "                    p=pde_p, dpds=pde_dpds, dpdq=pde_dpdq, A=As[0], S=S),\n",
    "        bounds=bounds,\n",
    "    )\n",
    "\n",
    "with Pool(7) as pool:\n",
    "    result = pool.map(calc, range(500))"
   ]
  },
  {
   "cell_type": "code",
   "execution_count": 19,
   "metadata": {},
   "outputs": [
    {
     "data": {
      "text/plain": [
       "0.262"
      ]
     },
     "execution_count": 19,
     "metadata": {},
     "output_type": "execute_result"
    }
   ],
   "source": [
    "np.mean([mle.success for mle in result])"
   ]
  },
  {
   "cell_type": "code",
   "execution_count": 20,
   "metadata": {},
   "outputs": [
    {
     "data": {
      "text/plain": [
       "0.538"
      ]
     },
     "execution_count": 20,
     "metadata": {},
     "output_type": "execute_result"
    }
   ],
   "source": [
    "lowest = min(mle.fun for mle in result)\n",
    "np.mean([mle.fun < lowest * 1.01 for mle in result])"
   ]
  },
  {
   "cell_type": "code",
   "execution_count": 21,
   "metadata": {
    "scrolled": false
   },
   "outputs": [
    {
     "data": {
      "text/plain": [
       "(array([13.,  0.,  0.,  0., 14.,  0., 21.,  0.,  7.,  6.,  0., 14.,  7.,\n",
       "        21.,  0.,  0., 14., 14.,  7.,  7., 14.,  6.,  6.,  7.,  7., 21.,\n",
       "         0., 14., 14., 35.]),\n",
       " array([0.42059816, 0.42073522, 0.42087227, 0.42100933, 0.42114639,\n",
       "        0.42128345, 0.4214205 , 0.42155756, 0.42169462, 0.42183168,\n",
       "        0.42196873, 0.42210579, 0.42224285, 0.4223799 , 0.42251696,\n",
       "        0.42265402, 0.42279108, 0.42292813, 0.42306519, 0.42320225,\n",
       "        0.42333931, 0.42347636, 0.42361342, 0.42375048, 0.42388754,\n",
       "        0.42402459, 0.42416165, 0.42429871, 0.42443577, 0.42457282,\n",
       "        0.42470988]),\n",
       " <a list of 30 Patch objects>)"
      ]
     },
     "execution_count": 21,
     "metadata": {},
     "output_type": "execute_result"
    },
    {
     "data": {
      "image/png": "[encoded data removed]",
      "text/plain": [
       "<Figure size 432x288 with 1 Axes>"
      ]
     },
     "metadata": {
      "needs_background": "light"
     },
     "output_type": "display_data"
    }
   ],
   "source": [
    "plt.hist(\n",
    "    [mle.fun for mle in result if mle.fun < lowest * 1.01],\n",
    "    bins=30,\n",
    ")"
   ]
  },
  {
   "cell_type": "markdown",
   "metadata": {},
   "source": [
    "Approximate number of evaluations needed to achieve a certain precision with a certain probability. Can be set at the start of this script. Note that this estimate depends on the specific matrix being solved during this test."
   ]
  },
  {
   "cell_type": "code",
   "execution_count": 22,
   "metadata": {},
   "outputs": [
    {
     "data": {
      "text/plain": [
       "6"
      ]
     },
     "execution_count": 22,
     "metadata": {},
     "output_type": "execute_result"
    }
   ],
   "source": [
    "from math import log as mlog, ceil as mceil\n",
    "mceil(mlog(\n",
    "    .01, \n",
    "    1 - np.mean([mle.fun < lowest * (1 + .01) for mle in result]),\n",
    "))"
   ]
  },
  {
   "cell_type": "markdown",
   "metadata": {},
   "source": [
    "This number can be seen fluctuating heavily between matrices for the current instance sizes."
   ]
  },
  {
   "cell_type": "markdown",
   "metadata": {},
   "source": [
    "## Solving with the new method"
   ]
  },
  {
   "cell_type": "code",
   "execution_count": 23,
   "metadata": {},
   "outputs": [],
   "source": [
    "with Pool(7) as pool:\n",
    "    mles = pool.map(\n",
    "        partial(\n",
    "            best_nll_solution,\n",
    "            p=pde_p, dpds=pde_dpds, dpdq=pde_dpdq,\n",
    "        ),\n",
    "        As,\n",
    "    )"
   ]
  },
  {
   "cell_type": "markdown",
   "metadata": {},
   "source": [
    "## Behavior of the likelihood\n",
    "\n",
    "Approximate distribution of the likelihood of the maximum likelihood estimator."
   ]
  },
  {
   "cell_type": "code",
   "execution_count": 24,
   "metadata": {},
   "outputs": [
    {
     "data": {
      "text/plain": [
       "(array([  5.,   2.,  11.,  17.,  27.,  53.,  94., 126., 116., 139., 124.,\n",
       "        106.,  82.,  48.,  27.,  11.,   7.,   3.,   0.,   2.]),\n",
       " array([-0.48052441, -0.47570342, -0.47088243, -0.46606144, -0.46124045,\n",
       "        -0.45641945, -0.45159846, -0.44677747, -0.44195648, -0.43713548,\n",
       "        -0.43231449, -0.4274935 , -0.42267251, -0.41785152, -0.41303052,\n",
       "        -0.40820953, -0.40338854, -0.39856755, -0.39374655, -0.38892556,\n",
       "        -0.38410457]),\n",
       " <a list of 20 Patch objects>)"
      ]
     },
     "execution_count": 24,
     "metadata": {},
     "output_type": "execute_result"
    },
    {
     "data": {
      "image/png": "[encoded data removed]",
      "text/plain": [
       "<Figure size 432x288 with 1 Axes>"
      ]
     },
     "metadata": {
      "needs_background": "light"
     },
     "output_type": "display_data"
    }
   ],
   "source": [
    "plt.hist([-mle.fun for mle in mles], bins=20)"
   ]
  },
  {
   "cell_type": "code",
   "execution_count": 25,
   "metadata": {},
   "outputs": [],
   "source": [
    "true_lls = [-neg_log_likelihood(pack(s, q), pde_p, A, S) for A in As]"
   ]
  },
  {
   "cell_type": "code",
   "execution_count": 26,
   "metadata": {
    "scrolled": false
   },
   "outputs": [
    {
     "data": {
      "text/plain": [
       "[<matplotlib.lines.Line2D at 0x7f1762ea2f50>]"
      ]
     },
     "execution_count": 26,
     "metadata": {},
     "output_type": "execute_result"
    },
    {
     "data": {
      "image/png": "[encoded data removed]",
      "text/plain": [
       "<Figure size 432x288 with 1 Axes>"
      ]
     },
     "metadata": {
      "needs_background": "light"
     },
     "output_type": "display_data"
    }
   ],
   "source": [
    "plt.scatter(true_lls, [-mle.fun for mle in mles])\n",
    "all_lls = true_lls + [-mle.fun for mle in mles]\n",
    "plt.plot([min(all_lls), max(all_lls)], [min(all_lls), max(all_lls)])"
   ]
  },
  {
   "cell_type": "code",
   "execution_count": 27,
   "metadata": {},
   "outputs": [],
   "source": [
    "diff = [2 * (mle.fun - true) for mle, true in zip(mles, true_lls)]"
   ]
  },
  {
   "cell_type": "code",
   "execution_count": 28,
   "metadata": {},
   "outputs": [
    {
     "data": {
      "text/plain": [
       "(array([  2.,   2.,   7.,  10.,  27.,  38.,  78., 106., 130., 130., 133.,\n",
       "        111.,  89.,  65.,  32.,  17.,  14.,   4.,   2.,   3.]),\n",
       " array([1.60443772, 1.62304298, 1.64164825, 1.66025352, 1.67885878,\n",
       "        1.69746405, 1.71606932, 1.73467458, 1.75327985, 1.77188512,\n",
       "        1.79049038, 1.80909565, 1.82770092, 1.84630618, 1.86491145,\n",
       "        1.88351672, 1.90212198, 1.92072725, 1.93933252, 1.95793778,\n",
       "        1.97654305]),\n",
       " <a list of 20 Patch objects>)"
      ]
     },
     "execution_count": 28,
     "metadata": {},
     "output_type": "execute_result"
    },
    {
     "data": {
      "image/png": "[encoded data removed]",
      "text/plain": [
       "<Figure size 432x288 with 1 Axes>"
      ]
     },
     "metadata": {
      "needs_background": "light"
     },
     "output_type": "display_data"
    }
   ],
   "source": [
    "plt.hist(diff, bins=20)"
   ]
  },
  {
   "cell_type": "markdown",
   "metadata": {},
   "source": [
    "This is not an M-estimator. The asymptotic distribution looks normal rather than chi-squared."
   ]
  },
  {
   "cell_type": "markdown",
   "metadata": {},
   "source": [
    "# Order recovery\n",
    "\n",
    "We test approximate recovery of the order of the students."
   ]
  },
  {
   "cell_type": "code",
   "execution_count": 29,
   "metadata": {},
   "outputs": [],
   "source": [
    "def is_sorted(x):\n",
    "    return np.all(np.diff(x) > 0)"
   ]
  },
  {
   "cell_type": "code",
   "execution_count": 30,
   "metadata": {},
   "outputs": [],
   "source": [
    "def is_almost_sorted(x, swaps_allowed=1):\n",
    "    return np.sum(np.diff(x) <= 0) <= swaps_allowed"
   ]
  },
  {
   "cell_type": "code",
   "execution_count": 31,
   "metadata": {},
   "outputs": [],
   "source": [
    "nr_misordered = 25"
   ]
  },
  {
   "cell_type": "markdown",
   "metadata": {},
   "source": [
    "### New method"
   ]
  },
  {
   "cell_type": "code",
   "execution_count": 32,
   "metadata": {
    "scrolled": false
   },
   "outputs": [
    {
     "data": {
      "text/plain": [
       "(array([  1.,   7.,   0.,  12.,  32.,   0.,  85., 135.,   0., 195., 184.,\n",
       "          0., 168., 103.,   0.,  49.,  23.,   0.,   3.,   3.]),\n",
       " array([21.  , 21.65, 22.3 , 22.95, 23.6 , 24.25, 24.9 , 25.55, 26.2 ,\n",
       "        26.85, 27.5 , 28.15, 28.8 , 29.45, 30.1 , 30.75, 31.4 , 32.05,\n",
       "        32.7 , 33.35, 34.  ]),\n",
       " <a list of 20 Patch objects>)"
      ]
     },
     "execution_count": 32,
     "metadata": {},
     "output_type": "execute_result"
    },
    {
     "data": {
      "image/png": "[encoded data removed]",
      "text/plain": [
       "<Figure size 432x288 with 1 Axes>"
      ]
     },
     "metadata": {
      "needs_background": "light"
     },
     "output_type": "display_data"
    }
   ],
   "source": [
    "plt.hist([np.sum(np.diff(unpack(mle.x)[0]) > 0) for mle in mles], bins=20)"
   ]
  },
  {
   "cell_type": "code",
   "execution_count": 33,
   "metadata": {
    "scrolled": true
   },
   "outputs": [],
   "source": [
    "new_fraction_recovered = np.mean([is_almost_sorted(unpack(mle.x)[0], nr_misordered) for mle in mles])"
   ]
  },
  {
   "cell_type": "markdown",
   "metadata": {},
   "source": [
    "### 1-PL"
   ]
  },
  {
   "cell_type": "code",
   "execution_count": 34,
   "metadata": {},
   "outputs": [],
   "source": [
    "def pl_nll(A):\n",
    "    return minimize(\n",
    "        partial(neg_log_likelihood,\n",
    "                p=pl_p, A=A, S=S),\n",
    "        np.random.rand(S + Q),\n",
    "        jac=partial(d_neg_log_likelihood,\n",
    "                    p=pl_p, dpds=pl_dpds, dpdq=pl_dpdq, A=A, S=S),\n",
    "    )"
   ]
  },
  {
   "cell_type": "code",
   "execution_count": 35,
   "metadata": {},
   "outputs": [],
   "source": [
    "with Pool(7) as pool:\n",
    "    PL_order_rec = pool.map(pl_nll, As)"
   ]
  },
  {
   "cell_type": "code",
   "execution_count": 36,
   "metadata": {
    "scrolled": false
   },
   "outputs": [
    {
     "data": {
      "text/plain": [
       "(array([  4.,  12.,  32.,   0.,  71., 134.,   0., 165., 184.,   0., 192.,\n",
       "        116.,  49.,   0.,  27.,   7.,   0.,   6.,   0.,   1.]),\n",
       " array([22. , 22.7, 23.4, 24.1, 24.8, 25.5, 26.2, 26.9, 27.6, 28.3, 29. ,\n",
       "        29.7, 30.4, 31.1, 31.8, 32.5, 33.2, 33.9, 34.6, 35.3, 36. ]),\n",
       " <a list of 20 Patch objects>)"
      ]
     },
     "execution_count": 36,
     "metadata": {},
     "output_type": "execute_result"
    },
    {
     "data": {
      "image/png": "[encoded data removed]",
      "text/plain": [
       "<Figure size 432x288 with 1 Axes>"
      ]
     },
     "metadata": {
      "needs_background": "light"
     },
     "output_type": "display_data"
    }
   ],
   "source": [
    "plt.hist([np.sum(np.diff(unpack(mle.x)[0]) > 0) for mle in PL_order_rec], bins=20)"
   ]
  },
  {
   "cell_type": "code",
   "execution_count": 37,
   "metadata": {},
   "outputs": [],
   "source": [
    "existing_fraction_recovered = np.mean([is_almost_sorted(unpack(mle.x)[0], nr_misordered) for mle in PL_order_rec])"
   ]
  },
  {
   "cell_type": "code",
   "execution_count": 38,
   "metadata": {},
   "outputs": [
    {
     "data": {
      "text/plain": [
       "(0.98, 0.984)"
      ]
     },
     "execution_count": 38,
     "metadata": {},
     "output_type": "execute_result"
    }
   ],
   "source": [
    "new_fraction_recovered, existing_fraction_recovered"
   ]
  },
  {
   "cell_type": "markdown",
   "metadata": {},
   "source": [
    "For a problem of this size, the method have similar order recovery performance."
   ]
  },
  {
   "cell_type": "markdown",
   "metadata": {},
   "source": [
    "## Power"
   ]
  },
  {
   "cell_type": "code",
   "execution_count": 39,
   "metadata": {},
   "outputs": [],
   "source": [
    "assert S % 2 == 0 # We'll need to split into two groups"
   ]
  },
  {
   "cell_type": "code",
   "execution_count": 40,
   "metadata": {},
   "outputs": [],
   "source": [
    "from scipy.stats import ranksums"
   ]
  },
  {
   "cell_type": "code",
   "execution_count": 41,
   "metadata": {},
   "outputs": [],
   "source": [
    "def calculate_statistic(opt):\n",
    "    s, _ = unpack(opt.x)\n",
    "    stat = ranksums(s[:int(S / 2)], s[int(S / 2):S])\n",
    "    return stat"
   ]
  },
  {
   "cell_type": "markdown",
   "metadata": {},
   "source": [
    "### Under Null Hypothesis"
   ]
  },
  {
   "cell_type": "code",
   "execution_count": 42,
   "metadata": {},
   "outputs": [],
   "source": [
    "s_null = np.full(S, .5)\n",
    "p_null = pde_p(s_null.transpose(), q)"
   ]
  },
  {
   "cell_type": "code",
   "execution_count": 43,
   "metadata": {},
   "outputs": [],
   "source": [
    "A_nulls = generate_matrices(p_null, n)"
   ]
  },
  {
   "cell_type": "markdown",
   "metadata": {},
   "source": [
    "#### New method"
   ]
  },
  {
   "cell_type": "code",
   "execution_count": 44,
   "metadata": {},
   "outputs": [],
   "source": [
    "with Pool(7) as pool:\n",
    "    null_opts = pool.map(\n",
    "        partial(\n",
    "            best_nll_solution,\n",
    "            p=pde_p, dpds=pde_dpds, dpdq=pde_dpdq,\n",
    "        ),\n",
    "        A_nulls,\n",
    "    )"
   ]
  },
  {
   "cell_type": "code",
   "execution_count": 45,
   "metadata": {},
   "outputs": [],
   "source": [
    "null_stats = np.array([calculate_statistic(opt).statistic for opt in null_opts])"
   ]
  },
  {
   "cell_type": "markdown",
   "metadata": {},
   "source": [
    "#### Existing method"
   ]
  },
  {
   "cell_type": "code",
   "execution_count": 46,
   "metadata": {},
   "outputs": [],
   "source": [
    "with Pool(7) as pool:\n",
    "    PL_null_opts = pool.map(pl_nll, A_nulls)"
   ]
  },
  {
   "cell_type": "code",
   "execution_count": 47,
   "metadata": {},
   "outputs": [],
   "source": [
    "PL_null_stats = np.array([calculate_statistic(opt).statistic for opt in PL_null_opts])"
   ]
  },
  {
   "cell_type": "markdown",
   "metadata": {},
   "source": [
    "### Result"
   ]
  },
  {
   "cell_type": "code",
   "execution_count": 48,
   "metadata": {},
   "outputs": [
    {
     "data": {
      "text/plain": [
       "(array([  8.,  38.,  90., 164., 220., 219., 145.,  81.,  29.,   6.]),\n",
       " array([-2.86192038, -2.27595431, -1.68998824, -1.10402217, -0.5180561 ,\n",
       "         0.06790998,  0.65387605,  1.23984212,  1.82580819,  2.41177426,\n",
       "         2.99774033]),\n",
       " <a list of 10 Patch objects>)"
      ]
     },
     "execution_count": 48,
     "metadata": {},
     "output_type": "execute_result"
    },
    {
     "data": {
      "image/png": "[encoded data removed]",
      "text/plain": [
       "<Figure size 432x288 with 1 Axes>"
      ]
     },
     "metadata": {
      "needs_background": "light"
     },
     "output_type": "display_data"
    }
   ],
   "source": [
    "plt.hist(null_stats)\n",
    "plt.hist(PL_null_stats)"
   ]
  },
  {
   "cell_type": "markdown",
   "metadata": {},
   "source": [
    "### Under alternative"
   ]
  },
  {
   "cell_type": "code",
   "execution_count": 49,
   "metadata": {},
   "outputs": [],
   "source": [
    "difference = .05\n",
    "s_alt = np.concatenate((np.full(int(S / 2), .5 - difference), np.full(int(S / 2), .5 + difference)))\n",
    "p_alt = pde_p(s_alt.transpose(), q)"
   ]
  },
  {
   "cell_type": "code",
   "execution_count": 50,
   "metadata": {},
   "outputs": [],
   "source": [
    "A_alts = generate_matrices(p_alt, n)"
   ]
  },
  {
   "cell_type": "code",
   "execution_count": 51,
   "metadata": {},
   "outputs": [],
   "source": [
    "alpha = .05"
   ]
  },
  {
   "cell_type": "markdown",
   "metadata": {},
   "source": [
    "#### New method"
   ]
  },
  {
   "cell_type": "code",
   "execution_count": 52,
   "metadata": {},
   "outputs": [],
   "source": [
    "with Pool(7) as pool:\n",
    "    alt_opts = pool.map(\n",
    "        partial(\n",
    "            best_nll_solution,\n",
    "            p=pde_p, dpds=pde_dpds, dpdq=pde_dpdq,\n",
    "        ),\n",
    "        A_alts,\n",
    "    )"
   ]
  },
  {
   "cell_type": "code",
   "execution_count": 53,
   "metadata": {},
   "outputs": [],
   "source": [
    "alt_stats = np.array([calculate_statistic(opt).statistic for opt in alt_opts])"
   ]
  },
  {
   "cell_type": "code",
   "execution_count": 54,
   "metadata": {},
   "outputs": [],
   "source": [
    "lower, upper = np.quantile(null_stats, (alpha / 2, 1 - alpha / 2))"
   ]
  },
  {
   "cell_type": "code",
   "execution_count": 55,
   "metadata": {},
   "outputs": [
    {
     "data": {
      "text/plain": [
       "(array([ 11.,  35.,  90., 184., 230., 235., 131.,  60.,  17.,   7.]),\n",
       " array([-4.72459398, -4.16191133, -3.59922868, -3.03654603, -2.47386338,\n",
       "        -1.91118073, -1.34849808, -0.78581543, -0.22313278,  0.33954988,\n",
       "         0.90223253]),\n",
       " <a list of 10 Patch objects>)"
      ]
     },
     "execution_count": 55,
     "metadata": {},
     "output_type": "execute_result"
    },
    {
     "data": {
      "image/png": "[encoded data removed]",
      "text/plain": [
       "<Figure size 432x288 with 1 Axes>"
      ]
     },
     "metadata": {
      "needs_background": "light"
     },
     "output_type": "display_data"
    }
   ],
   "source": [
    "plt.hist(null_stats)\n",
    "plt.hist(alt_stats)"
   ]
  },
  {
   "cell_type": "code",
   "execution_count": 56,
   "metadata": {},
   "outputs": [],
   "source": [
    "new_power = np.mean(np.logical_or(alt_stats < lower, alt_stats > upper))"
   ]
  },
  {
   "cell_type": "markdown",
   "metadata": {},
   "source": [
    "#### Existing method"
   ]
  },
  {
   "cell_type": "code",
   "execution_count": 57,
   "metadata": {},
   "outputs": [],
   "source": [
    "with Pool(7) as pool:\n",
    "    PL_alt_opts = pool.map(pl_nll, A_alts)"
   ]
  },
  {
   "cell_type": "code",
   "execution_count": 58,
   "metadata": {},
   "outputs": [],
   "source": [
    "PL_alt_stats = np.array([calculate_statistic(opt).statistic for opt in PL_alt_opts])"
   ]
  },
  {
   "cell_type": "code",
   "execution_count": 59,
   "metadata": {},
   "outputs": [],
   "source": [
    "PL_lower, PL_upper = np.quantile(PL_null_stats, (alpha / 2, 1 - alpha / 2))"
   ]
  },
  {
   "cell_type": "code",
   "execution_count": 60,
   "metadata": {},
   "outputs": [
    {
     "data": {
      "text/plain": [
       "(array([  8.,  34.,  81., 191., 228., 223., 152.,  61.,  17.,   5.]),\n",
       " array([-4.99623388, -4.4238498 , -3.85146573, -3.27908165, -2.70669758,\n",
       "        -2.1343135 , -1.56192943, -0.98954535, -0.41716128,  0.1552228 ,\n",
       "         0.72760688]),\n",
       " <a list of 10 Patch objects>)"
      ]
     },
     "execution_count": 60,
     "metadata": {},
     "output_type": "execute_result"
    },
    {
     "data": {
      "image/png": "[encoded data removed]",
      "text/plain": [
       "<Figure size 432x288 with 1 Axes>"
      ]
     },
     "metadata": {
      "needs_background": "light"
     },
     "output_type": "display_data"
    }
   ],
   "source": [
    "plt.hist(PL_null_stats)\n",
    "plt.hist(PL_alt_stats)"
   ]
  },
  {
   "cell_type": "code",
   "execution_count": 61,
   "metadata": {},
   "outputs": [],
   "source": [
    "existing_power = np.mean(np.logical_or(PL_alt_stats < PL_lower, PL_alt_stats > PL_upper))"
   ]
  },
  {
   "cell_type": "markdown",
   "metadata": {},
   "source": [
    "#### Result"
   ]
  },
  {
   "cell_type": "code",
   "execution_count": 62,
   "metadata": {
    "scrolled": false
   },
   "outputs": [
    {
     "data": {
      "text/plain": [
       "(array([  8.,  34.,  81., 191., 228., 223., 152.,  61.,  17.,   5.]),\n",
       " array([-4.99623388, -4.4238498 , -3.85146573, -3.27908165, -2.70669758,\n",
       "        -2.1343135 , -1.56192943, -0.98954535, -0.41716128,  0.1552228 ,\n",
       "         0.72760688]),\n",
       " <a list of 10 Patch objects>)"
      ]
     },
     "execution_count": 62,
     "metadata": {},
     "output_type": "execute_result"
    },
    {
     "data": {
      "image/png": "[encoded data removed]",
      "text/plain": [
       "<Figure size 432x288 with 1 Axes>"
      ]
     },
     "metadata": {
      "needs_background": "light"
     },
     "output_type": "display_data"
    }
   ],
   "source": [
    "plt.hist(PL_null_stats)\n",
    "plt.hist(PL_alt_stats)"
   ]
  },
  {
   "cell_type": "code",
   "execution_count": 63,
   "metadata": {},
   "outputs": [
    {
     "data": {
      "text/plain": [
       "(0.55, 0.635)"
      ]
     },
     "execution_count": 63,
     "metadata": {},
     "output_type": "execute_result"
    }
   ],
   "source": [
    "new_power, existing_power"
   ]
  },
  {
   "cell_type": "markdown",
   "metadata": {},
   "source": [
    "We conclude that the existing method has more power in this scenario."
   ]
  },
  {
   "cell_type": "markdown",
   "metadata": {},
   "source": [
    "# Comparing 1-PL vs new"
   ]
  },
  {
   "cell_type": "code",
   "execution_count": 64,
   "metadata": {
    "scrolled": true
   },
   "outputs": [],
   "source": [
    "theta, b = unpack(PL_order_rec[0].x)\n",
    "s2, q2 = unpack(mles[0].x)"
   ]
  },
  {
   "cell_type": "code",
   "execution_count": 65,
   "metadata": {},
   "outputs": [
    {
     "data": {
      "text/plain": [
       "[<matplotlib.lines.Line2D at 0x7f1761d2f250>]"
      ]
     },
     "execution_count": 65,
     "metadata": {},
     "output_type": "execute_result"
    },
    {
     "data": {
      "image/png": "[encoded data removed]",
      "text/plain": [
       "<Figure size 432x288 with 1 Axes>"
      ]
     },
     "metadata": {
      "needs_background": "light"
     },
     "output_type": "display_data"
    }
   ],
   "source": [
    "plt.plot((theta - theta.min()) / (theta - theta.min()).max())\n",
    "plt.plot(s2)"
   ]
  },
  {
   "cell_type": "code",
   "execution_count": 66,
   "metadata": {
    "scrolled": true
   },
   "outputs": [
    {
     "data": {
      "text/plain": [
       "[<matplotlib.lines.Line2D at 0x7f1761ca0410>]"
      ]
     },
     "execution_count": 66,
     "metadata": {},
     "output_type": "execute_result"
    },
    {
     "data": {
      "image/png": "[encoded data removed]",
      "text/plain": [
       "<Figure size 432x288 with 1 Axes>"
      ]
     },
     "metadata": {
      "needs_background": "light"
     },
     "output_type": "display_data"
    }
   ],
   "source": [
    "plt.plot(1 - (b - b.min()) / (b - b.min()).max())\n",
    "plt.plot(q2)"
   ]
  }
 ],
 "metadata": {
  "kernelspec": {
   "display_name": "Python 3",
   "language": "python",
   "name": "python3"
  },
  "language_info": {
   "codemirror_mode": {
    "name": "ipython",
    "version": 3
   },
   "file_extension": ".py",
   "mimetype": "text/x-python",
   "name": "python",
   "nbconvert_exporter": "python",
   "pygments_lexer": "ipython3",
   "version": "3.7.4"
  }
 },
 "nbformat": 4,
 "nbformat_minor": 2
}
